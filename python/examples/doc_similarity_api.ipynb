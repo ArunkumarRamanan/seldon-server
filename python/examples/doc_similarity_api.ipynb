{
 "cells": [
  {
   "cell_type": "markdown",
   "metadata": {},
   "source": [
    "# Call Microservice API for Reuters Document Similarity Model\n",
    "\n",
    "**You must run doc_similarity_reuters.ipynb first**\n",
    "\n",
    "Call the recommend service to get similar documents to document 6003"
   ]
  },
  {
   "cell_type": "code",
   "execution_count": null,
   "metadata": {
    "collapsed": false
   },
   "outputs": [],
   "source": [
    "import requests\n",
    "import json\n",
    "import pprint\n",
    "params = {}\n",
    "params[\"user_id\"] = 1\n",
    "params[\"recent_interactions\"] = \"6023\"\n",
    "params[\"limit\"] = 4\n",
    "params[\"client\"] = \"reuters\"\n",
    "r = requests.get(\"http://127.0.0.1:5000/recommend\",params=params)\n",
    "print r.status_code\n",
    "j = json.loads(r.text)\n",
    "pp = pprint.PrettyPrinter(indent=4)\n",
    "pp.pprint(j)"
   ]
  },
  {
   "cell_type": "code",
   "execution_count": null,
   "metadata": {
    "collapsed": true
   },
   "outputs": [],
   "source": []
  }
 ],
 "metadata": {
  "kernelspec": {
   "display_name": "Python 2",
   "language": "python",
   "name": "python2"
  },
  "language_info": {
   "codemirror_mode": {
    "name": "ipython",
    "version": 2
   },
   "file_extension": ".py",
   "mimetype": "text/x-python",
   "name": "python",
   "nbconvert_exporter": "python",
   "pygments_lexer": "ipython2",
   "version": "2.7.10"
  }
 },
 "nbformat": 4,
 "nbformat_minor": 0
}
