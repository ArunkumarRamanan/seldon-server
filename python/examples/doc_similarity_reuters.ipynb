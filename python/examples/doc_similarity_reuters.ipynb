{
 "cells": [
  {
   "cell_type": "markdown",
   "metadata": {},
   "source": [
    "# Creating a document similarity microservice for the Reuters-21578 dataset.\n",
    "\n",
    "First download the Reuters-21578 dataset in JSON format into the local folder:\n",
    "\n",
    "```bash\n",
    "git clone https://github.com/fergiemcdowall/reuters-21578-json\n",
    "```\n",
    "\n",
    "The first step will be to convert this into the default corpus format we use:\n"
   ]
  },
  {
   "cell_type": "code",
   "execution_count": null,
   "metadata": {
    "collapsed": false
   },
   "outputs": [],
   "source": [
    "import json\n",
    "import codecs \n",
    "import os\n",
    "\n",
    "docs = []\n",
    "for filename in os.listdir(\"reuters-21578-json/data/full\"):\n",
    "    f = open(\"reuters-21578-json/data/full/\"+filename)\n",
    "    js = json.load(f)\n",
    "    for j in js:\n",
    "        if 'topics' in j and 'body' in j:\n",
    "            d = {}\n",
    "            d[\"id\"] = j['id']\n",
    "            d[\"text\"] = j['body'].replace(\"\\n\",\"\")\n",
    "            d[\"title\"] = j['title']\n",
    "            d[\"tags\"] = \",\".join(j['topics'])\n",
    "            docs.append(d)\n",
    "print \"loaded \",len(docs),\" documents\""
   ]
  },
  {
   "cell_type": "markdown",
   "metadata": {},
   "source": [
    "## Create a gensim LSI document similarity model"
   ]
  },
  {
   "cell_type": "code",
   "execution_count": null,
   "metadata": {
    "collapsed": false
   },
   "outputs": [],
   "source": [
    "from  seldon.text import DocumentSimilarity,DefaultJsonCorpus\n",
    "import logging\n",
    "logger = logging.getLogger()\n",
    "logger.setLevel(logging.INFO)\n",
    "\n",
    "corpus = DefaultJsonCorpus(docs)\n",
    "ds = DocumentSimilarity(model_type='gensim_lsi')\n",
    "ds.fit(corpus)\n",
    "print \"done\"\n"
   ]
  },
  {
   "cell_type": "markdown",
   "metadata": {},
   "source": [
    "## Run accuracy tests\n",
    "\n",
    "Run a test over the document to compute average jaccard similarity to the 1-nearest neighbour for each document using the \"tags\" field of the meta data as the ground truth. "
   ]
  },
  {
   "cell_type": "code",
   "execution_count": null,
   "metadata": {
    "collapsed": false
   },
   "outputs": [],
   "source": [
    "ds.score()"
   ]
  },
  {
   "cell_type": "markdown",
   "metadata": {},
   "source": [
    "Run a test again but use the Annoy approximate nearest neighbour index that would have been built. Should be much faster."
   ]
  },
  {
   "cell_type": "code",
   "execution_count": null,
   "metadata": {
    "collapsed": false
   },
   "outputs": [],
   "source": [
    "ds.score(approx=True)"
   ]
  },
  {
   "cell_type": "markdown",
   "metadata": {},
   "source": [
    "## Run single nearest neighbour query\n",
    "Run a nearest neighbour query on a single document and print the title and tag meta data"
   ]
  },
  {
   "cell_type": "code",
   "execution_count": null,
   "metadata": {
    "collapsed": false
   },
   "outputs": [],
   "source": [
    "query_doc=6023\n",
    "print \"Query doc: \",ds.get_meta(query_doc)['title'],\"Tagged:\",ds.get_meta(query_doc)['tags']\n",
    "neighbours = ds.nn(query_doc,k=5,translate_id=True,approx=True)\n",
    "print neighbours\n",
    "for (doc_id,_) in neighbours:\n",
    "    j = ds.get_meta(doc_id)\n",
    "    print \"Doc id\",doc_id,j['title'],\"Tagged:\",j['tags']"
   ]
  },
  {
   "cell_type": "markdown",
   "metadata": {},
   "source": [
    "## Save recommender\n",
    "\n",
    "Save the recommender to the filesystem in ```reuters_recommender``` folder"
   ]
  },
  {
   "cell_type": "code",
   "execution_count": null,
   "metadata": {
    "collapsed": false
   },
   "outputs": [],
   "source": [
    "import seldon\n",
    "rw = seldon.Recommender_wrapper()\n",
    "rw.save_recommender(ds,\"reuters_recommender\")\n",
    "print \"done\""
   ]
  },
  {
   "cell_type": "markdown",
   "metadata": {},
   "source": [
    "## Start a microservice to serve the recommender"
   ]
  },
  {
   "cell_type": "code",
   "execution_count": null,
   "metadata": {
    "collapsed": false
   },
   "outputs": [],
   "source": [
    "from seldon.microservice import Microservices\n",
    "m = Microservices()\n",
    "app = m.create_recommendation_microservice(\"reuters_recommender\")\n",
    "app.run(host=\"0.0.0.0\",port=5000,debug=False)"
   ]
  },
  {
   "cell_type": "code",
   "execution_count": null,
   "metadata": {
    "collapsed": true
   },
   "outputs": [],
   "source": []
  }
 ],
 "metadata": {
  "kernelspec": {
   "display_name": "Python 2",
   "language": "python",
   "name": "python2"
  },
  "language_info": {
   "codemirror_mode": {
    "name": "ipython",
    "version": 2
   },
   "file_extension": ".py",
   "mimetype": "text/x-python",
   "name": "python",
   "nbconvert_exporter": "python",
   "pygments_lexer": "ipython2",
   "version": "2.7.10"
  }
 },
 "nbformat": 4,
 "nbformat_minor": 0
}
